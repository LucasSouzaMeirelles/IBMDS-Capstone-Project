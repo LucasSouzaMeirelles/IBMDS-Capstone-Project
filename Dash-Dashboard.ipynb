{
 "cells": [
  {
   "cell_type": "code",
   "execution_count": 1,
   "id": "af3cd537-3fe8-4115-9b94-00376a77c356",
   "metadata": {},
   "outputs": [],
   "source": [
    "import dash\n",
    "from dash import dcc, html\n",
    "from dash.dependencies import Input, Output\n",
    "import plotly.express as px\n",
    "import pandas as pd"
   ]
  },
  {
   "cell_type": "code",
   "execution_count": 2,
   "id": "5197f778-f674-4647-98f9-2a08d4555686",
   "metadata": {},
   "outputs": [
    {
     "data": {
      "text/html": [
       "<div>\n",
       "<style scoped>\n",
       "    .dataframe tbody tr th:only-of-type {\n",
       "        vertical-align: middle;\n",
       "    }\n",
       "\n",
       "    .dataframe tbody tr th {\n",
       "        vertical-align: top;\n",
       "    }\n",
       "\n",
       "    .dataframe thead th {\n",
       "        text-align: right;\n",
       "    }\n",
       "</style>\n",
       "<table border=\"1\" class=\"dataframe\">\n",
       "  <thead>\n",
       "    <tr style=\"text-align: right;\">\n",
       "      <th></th>\n",
       "      <th>Flight Number</th>\n",
       "      <th>Launch Site</th>\n",
       "      <th>class</th>\n",
       "      <th>Payload Mass (kg)</th>\n",
       "      <th>Booster Version</th>\n",
       "      <th>Booster Version Category</th>\n",
       "    </tr>\n",
       "  </thead>\n",
       "  <tbody>\n",
       "    <tr>\n",
       "      <th>0</th>\n",
       "      <td>1</td>\n",
       "      <td>CCAFS LC-40</td>\n",
       "      <td>0</td>\n",
       "      <td>0.0</td>\n",
       "      <td>F9 v1.0  B0003</td>\n",
       "      <td>v1.0</td>\n",
       "    </tr>\n",
       "    <tr>\n",
       "      <th>1</th>\n",
       "      <td>2</td>\n",
       "      <td>CCAFS LC-40</td>\n",
       "      <td>0</td>\n",
       "      <td>0.0</td>\n",
       "      <td>F9 v1.0  B0004</td>\n",
       "      <td>v1.0</td>\n",
       "    </tr>\n",
       "    <tr>\n",
       "      <th>2</th>\n",
       "      <td>3</td>\n",
       "      <td>CCAFS LC-40</td>\n",
       "      <td>0</td>\n",
       "      <td>525.0</td>\n",
       "      <td>F9 v1.0  B0005</td>\n",
       "      <td>v1.0</td>\n",
       "    </tr>\n",
       "    <tr>\n",
       "      <th>3</th>\n",
       "      <td>4</td>\n",
       "      <td>CCAFS LC-40</td>\n",
       "      <td>0</td>\n",
       "      <td>500.0</td>\n",
       "      <td>F9 v1.0  B0006</td>\n",
       "      <td>v1.0</td>\n",
       "    </tr>\n",
       "    <tr>\n",
       "      <th>4</th>\n",
       "      <td>5</td>\n",
       "      <td>CCAFS LC-40</td>\n",
       "      <td>0</td>\n",
       "      <td>677.0</td>\n",
       "      <td>F9 v1.0  B0007</td>\n",
       "      <td>v1.0</td>\n",
       "    </tr>\n",
       "  </tbody>\n",
       "</table>\n",
       "</div>"
      ],
      "text/plain": [
       "   Flight Number  Launch Site  class  Payload Mass (kg) Booster Version  \\\n",
       "0              1  CCAFS LC-40      0                0.0  F9 v1.0  B0003   \n",
       "1              2  CCAFS LC-40      0                0.0  F9 v1.0  B0004   \n",
       "2              3  CCAFS LC-40      0              525.0  F9 v1.0  B0005   \n",
       "3              4  CCAFS LC-40      0              500.0  F9 v1.0  B0006   \n",
       "4              5  CCAFS LC-40      0              677.0  F9 v1.0  B0007   \n",
       "\n",
       "  Booster Version Category  \n",
       "0                     v1.0  \n",
       "1                     v1.0  \n",
       "2                     v1.0  \n",
       "3                     v1.0  \n",
       "4                     v1.0  "
      ]
     },
     "execution_count": 2,
     "metadata": {},
     "output_type": "execute_result"
    }
   ],
   "source": [
    "main_df = pd.read_csv('spacex_launch_dash.csv')\n",
    "main_df.head()"
   ]
  },
  {
   "cell_type": "code",
   "execution_count": 3,
   "id": "5366d796-3c1c-4a67-b38d-a4d06fd19a02",
   "metadata": {},
   "outputs": [
    {
     "data": {
      "text/plain": [
       "count      56.000000\n",
       "mean     3696.648214\n",
       "std      2568.509679\n",
       "min         0.000000\n",
       "25%      2121.000000\n",
       "50%      3412.500000\n",
       "75%      5042.500000\n",
       "max      9600.000000\n",
       "Name: Payload Mass (kg), dtype: float64"
      ]
     },
     "execution_count": 3,
     "metadata": {},
     "output_type": "execute_result"
    }
   ],
   "source": [
    "main_df['Payload Mass (kg)'].describe()"
   ]
  },
  {
   "cell_type": "code",
   "execution_count": 7,
   "id": "a93c2da8-9118-45d3-8990-a6ed1767de4d",
   "metadata": {},
   "outputs": [
    {
     "data": {
      "text/html": [
       "\n",
       "        <iframe\n",
       "            width=\"100%\"\n",
       "            height=\"650\"\n",
       "            src=\"http://127.0.0.1:8050/\"\n",
       "            frameborder=\"0\"\n",
       "            allowfullscreen\n",
       "            \n",
       "        ></iframe>\n",
       "        "
      ],
      "text/plain": [
       "<IPython.lib.display.IFrame at 0x1acc65bfce0>"
      ]
     },
     "metadata": {},
     "output_type": "display_data"
    }
   ],
   "source": [
    "app = dash.Dash(__name__)\n",
    "\n",
    "app.layout = html.Div([\n",
    "    # Dropdown to select a Launch site\n",
    "    html.Div([\n",
    "        html.Label('Select Launch Site:'),\n",
    "        dcc.Dropdown(\n",
    "            id='site-dropdown',\n",
    "            options=[{'label': site, 'value': site} for site in main_df['Launch Site'].unique()],\n",
    "            value=main_df['Launch Site'].unique()[0]  # Default value\n",
    "        )\n",
    "    ]),\n",
    "    \n",
    "    # Pie chart for success/failure counts\n",
    "    html.Div([\n",
    "        dcc.Graph(id='success-failure-pie-chart')\n",
    "    ]),\n",
    "    \n",
    "    # Range slider for selecting payload\n",
    "    html.Div([\n",
    "        html.Label('Select Payload Range (kg):'),\n",
    "        dcc.RangeSlider(\n",
    "            id='payload-slider',\n",
    "            min=main_df['Payload Mass (kg)'].min(),\n",
    "            max=main_df['Payload Mass (kg)'].max(),\n",
    "            step=100,\n",
    "            value=[main_df['Payload Mass (kg)'].min(), main_df['Payload Mass (kg)'].max()],\n",
    "            marks={int(i): str(i) for i in range(int(main_df['Payload Mass (kg)'].min()), int(main_df['Payload Mass (kg)'].max()), 1000)}\n",
    "        )\n",
    "    ]),\n",
    "    \n",
    "    # Scatter plot for payload vs class\n",
    "    html.Div([\n",
    "        dcc.Graph(id='payload-class-scatter')\n",
    "    ])\n",
    "])\n",
    "\n",
    "# Callback to update the pie chart based on the selected Launch site\n",
    "@app.callback(\n",
    "    Output('success-failure-pie-chart', 'figure'),\n",
    "    Input('site-dropdown', 'value')\n",
    ")\n",
    "def update_pie_chart(selected_site):\n",
    "    filtered_df = main_df[main_df['Launch Site'] == selected_site]\n",
    "    pie_fig = px.pie(\n",
    "        filtered_df,\n",
    "        names='class',\n",
    "        title=f'Success and Failure Counts for {selected_site}',\n",
    "        hole=.3\n",
    "    )\n",
    "    return pie_fig\n",
    "\n",
    "# Callback to update the scatter plot based on the selected Launch site and payload range\n",
    "@app.callback(\n",
    "    Output('payload-class-scatter', 'figure'),\n",
    "    [Input('site-dropdown', 'value'),\n",
    "     Input('payload-slider', 'value')]\n",
    ")\n",
    "def update_scatter_plot(selected_site, payload_range):\n",
    "    filtered_df = main_df[(main_df['Launch Site'] == selected_site) &\n",
    "                          (main_df['Payload Mass (kg)'] >= payload_range[0]) &\n",
    "                          (main_df['Payload Mass (kg)'] <= payload_range[1])]\n",
    "    scatter_fig = px.scatter(\n",
    "        filtered_df,\n",
    "        x='Payload Mass (kg)',\n",
    "        y='class',\n",
    "        title=f'Payload vs. Outcome for {selected_site}',\n",
    "        labels={'class': 'Outcome (0=Failure, 1=Success)'},\n",
    "        color='Booster Version Category'\n",
    "    )\n",
    "    return scatter_fig\n",
    "\n",
    "if __name__ == '__main__':\n",
    "    app.run_server(debug=True)"
   ]
  }
 ],
 "metadata": {
  "kernelspec": {
   "display_name": "Python 3 (ipykernel)",
   "language": "python",
   "name": "python3"
  },
  "language_info": {
   "codemirror_mode": {
    "name": "ipython",
    "version": 3
   },
   "file_extension": ".py",
   "mimetype": "text/x-python",
   "name": "python",
   "nbconvert_exporter": "python",
   "pygments_lexer": "ipython3",
   "version": "3.12.2"
  }
 },
 "nbformat": 4,
 "nbformat_minor": 5
}
